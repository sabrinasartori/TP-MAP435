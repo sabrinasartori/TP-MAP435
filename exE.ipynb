{
 "cells": [
  {
   "attachments": {},
   "cell_type": "markdown",
   "metadata": {},
   "source": [
    "# MAP 435 - TP à trous à rendre pour le dimanche 12 mai 23h59\n",
    "\n",
    "Le but de cet exercice est de compléter les fonctions manquantes en remplaçant les parties `# YOUR CODE HERE` par votre code.\n",
    "\n",
    "**Attention** la correction des notebooks se faisant de manière automatique :\n",
    "- il faut que vous supprimiez la ligne `raise NotImplementedError()` ;\n",
    "- les seules cellules que vous devez modifier sont celles comportant la mention `# YOUR CODE HERE` ;\n",
    "- **vous ne devez pas modifier le nom du fichier faute de quoi votre devoir ne sera pas corrigé**.\n",
    "\n",
    "Merci d'inscrire votre nom dans la cellule ci-dessous."
   ]
  },
  {
   "cell_type": "code",
   "execution_count": 1,
   "metadata": {},
   "outputs": [],
   "source": [
    "NOM = \"Sabrina Lomelino Sartori\""
   ]
  },
  {
   "cell_type": "code",
   "execution_count": null,
   "metadata": {},
   "outputs": [],
   "source": []
  },
  {
   "cell_type": "markdown",
   "metadata": {
    "deletable": false,
    "editable": false,
    "nbgrader": {
     "cell_type": "markdown",
     "checksum": "c4bc9dca26a56bcca62407d8087a65d3",
     "grade": false,
     "grade_id": "cell-80236c427f9be1ae",
     "locked": true,
     "schema_version": 3,
     "solution": false,
     "task": false
    }
   },
   "source": [
    "# Optimisation sous multiples contraintes\n",
    "\n",
    "Le but de cet exercice est de trouver le minimum d'une fonctionnelle (ni strictement convexe, ni minorée sur $\\mathbb{R}^N$) sous deux contraintes inégalités qui assurent l'existence et l'unicité du minimum.\n",
    "\n",
    "* En premier lieu, en fixant une contrainte active du problème et en éliminant l'autre, on va diminuer le nombre d'inconnues pour mettre en place des algorithmes classiques de descente sans contrainte.\n",
    "Si la deuxième contrainte n'est pas violée, on a trouvé un minimum.\n",
    "\n",
    "* Dans un second temps, on mettra en place un algorithme de descente de type Uzawa, avec prise en compte des contraintes, en prenant garde au fait que le problème ne satisfait pas les hypothèses nécessaires à la convergence de cet algorithme."
   ]
  },
  {
   "cell_type": "markdown",
   "metadata": {
    "deletable": false,
    "editable": false,
    "nbgrader": {
     "cell_type": "markdown",
     "checksum": "3c80376a2d6b37aff2aeac4306b381ff",
     "grade": false,
     "grade_id": "cell-f35cadc7b2c882d6",
     "locked": true,
     "schema_version": 3,
     "solution": false,
     "task": false
    }
   },
   "source": [
    "### Chargement des librairies utilisées"
   ]
  },
  {
   "cell_type": "code",
   "execution_count": 2,
   "metadata": {
    "deletable": false,
    "editable": false,
    "nbgrader": {
     "cell_type": "code",
     "checksum": "ae16ac4593983bd47f59c27c0feba174",
     "grade": false,
     "grade_id": "cell-b2e46b55fc1a1a3d",
     "locked": true,
     "schema_version": 3,
     "solution": false,
     "task": false
    }
   },
   "outputs": [],
   "source": [
    "import numpy as np\n",
    "import numpy.testing as npt\n",
    "import matplotlib.pyplot as plt\n",
    "%matplotlib inline\n",
    "\n",
    "import scipy as sp\n",
    "from scipy import sparse\n",
    "from scipy.sparse import linalg, diags"
   ]
  },
  {
   "cell_type": "markdown",
   "metadata": {
    "deletable": false,
    "editable": false,
    "nbgrader": {
     "cell_type": "markdown",
     "checksum": "7842bd100862378b88fca3986a15296b",
     "grade": false,
     "grade_id": "cell-b53f655ec8b5ea8e",
     "locked": true,
     "schema_version": 3,
     "solution": false,
     "task": false
    }
   },
   "source": [
    "## 1) Mise en place du problème\n",
    "\n",
    "Soient $C$, $p$ et $q$ trois constantes réelles positives.\n",
    "On va chercher à minimiser la fonctionnelle quadratique suivante $J: \\mathbb R^N \\rightarrow \\mathbb R$ telle que  \n",
    "$$ J(x) = \\frac12 \\langle Ax,x\\rangle - C * \\langle b,x\\rangle,$$\n",
    "avec :\n",
    "\\begin{equation}\n",
    " A=\n",
    " \\begin{pmatrix}\n",
    " 1&-1&0&0&0&\\ldots &0\\\\\n",
    " -1&2&-1&0& \\ddots&\\ddots&\\vdots\\\\\n",
    " 0&-1&2&-1&0&\\ddots&\\vdots\\\\\n",
    " 0&\\ddots&\\ddots&\\ddots&\\ddots&\\ddots&0\\\\\n",
    " \\vdots&\\ddots&0&-1&2&-1 &0\\\\\n",
    "\\vdots&\\ddots&\\ddots&0&-1&2&-1\\\\\n",
    "0&\\ldots&0& 0&0& -1&1\n",
    "\\end{pmatrix} \\in \\mathcal M _{N}(\\mathbb R)\n",
    "\\end{equation}\n",
    "et $b\\in \\mathbb{R}^N$.\n",
    "On aurait pu considérer un vecteur $b$ quelconque, mais pour simplifier ce problème, on fixe $b=\\mathbb{1}$ le vecteur ne contenant que des $1$.\n",
    "\n",
    "Comme la matrice $A$ n'est pas définie positive, la fonctionnelle $J$ n'est pas $\\alpha$-convexe. On peut remarquer que son noyau contient les constantes. Donc, en posant $\\mathbb{1}$ le vecteur ne contenant que des $1$, on obtient pour tout $x\\in \\mathbb{R}^N$, on a $J(x+2\\times\\mathbb{1}) = J(x+\\mathbb{1}) - C\\times N = J(x) - 2\\times C\\times N$, et $J$ n'est ni strictement convexe, ni minorée.\n",
    "\n",
    "On impose également les deux contraintes $x_1 \\leq p$ et $x_N \\leq q$.\n",
    "\n",
    "On pourrait étudier la convergence théorique des algorithmes de descente en faisant varier la constante $C$, et les deux constantes $p$ et $q$. Mais, pour cet exercice, on va se placer dans un cadre simple où $C=2$ et $p\\leq q$. Comme le problème est symétrique en $x_1$ et $x_N$, c'est la constante la plus petite (en l'occurence $p$) qui est susceptible d'être active."
   ]
  },
  {
   "cell_type": "markdown",
   "metadata": {
    "deletable": false,
    "editable": false,
    "nbgrader": {
     "cell_type": "markdown",
     "checksum": "1e7ed053e92ab68e7d9a98e56f9fcef3",
     "grade": false,
     "grade_id": "cell-581fc6d4e1dae27a",
     "locked": true,
     "schema_version": 3,
     "solution": false,
     "task": false
    }
   },
   "source": [
    "**Q1)** Compléter la fonction `const_A(n)` qui permet de construire la matrice  **creuse** carrée $A$ de taille $n$. **Attention à bien construire une matrice creuse !**"
   ]
  },
  {
   "cell_type": "code",
   "execution_count": 3,
   "metadata": {
    "deletable": false,
    "nbgrader": {
     "cell_type": "code",
     "checksum": "1a959dee855cb6e782e27f6febd45814",
     "grade": false,
     "grade_id": "cell-5570bf071fb5cb70",
     "locked": false,
     "schema_version": 3,
     "solution": true,
     "task": false
    }
   },
   "outputs": [],
   "source": [
    "def construire_A(n):\n",
    "    A = np.zeros((n, n))\n",
    "    for i in range(1, n-1):\n",
    "        A[i][i-1] = -1\n",
    "        A[i][i] = 2\n",
    "        A[i][i+1] = -1\n",
    "    A[0][0] = 1\n",
    "    A[0][1] = -1\n",
    "    A[n-1][n-2] = -1\n",
    "    A[n-1][n-1] = 1\n",
    "    return sparse.csr_matrix(A)"
   ]
  },
  {
   "cell_type": "code",
   "execution_count": 4,
   "metadata": {
    "deletable": false,
    "editable": false,
    "nbgrader": {
     "cell_type": "code",
     "checksum": "7a05b0afe85551ea1d5e2d94008ef8a8",
     "grade": true,
     "grade_id": "cell-bafd09198ed2d08b",
     "locked": true,
     "points": 2,
     "schema_version": 3,
     "solution": false,
     "task": false
    }
   },
   "outputs": [
    {
     "name": "stdout",
     "output_type": "stream",
     "text": [
      "mat_A = \n",
      " [[ 1. -1.  0.  0.  0.  0.  0.  0.  0.  0.]\n",
      " [-1.  2. -1.  0.  0.  0.  0.  0.  0.  0.]\n",
      " [ 0. -1.  2. -1.  0.  0.  0.  0.  0.  0.]\n",
      " [ 0.  0. -1.  2. -1.  0.  0.  0.  0.  0.]\n",
      " [ 0.  0.  0. -1.  2. -1.  0.  0.  0.  0.]\n",
      " [ 0.  0.  0.  0. -1.  2. -1.  0.  0.  0.]\n",
      " [ 0.  0.  0.  0.  0. -1.  2. -1.  0.  0.]\n",
      " [ 0.  0.  0.  0.  0.  0. -1.  2. -1.  0.]\n",
      " [ 0.  0.  0.  0.  0.  0.  0. -1.  2. -1.]\n",
      " [ 0.  0.  0.  0.  0.  0.  0.  0. -1.  1.]]\n"
     ]
    }
   ],
   "source": [
    "## On vérifie votre matrice A.\n",
    "\n",
    "# Calcul de la matrice que vous avez construite pour N=10.\n",
    "mat_A_test=construire_A(10)\n",
    "# Puis on affiche la matrice sous forme dense pour plus de lisibilité.\n",
    "print('mat_A = \\n',mat_A_test.todense())\n"
   ]
  },
  {
   "cell_type": "markdown",
   "metadata": {},
   "source": [
    "**Q2)** Compléter la fonction `construire_b` ci-dessous qui permet de construire le vecteur $b$ et la constante $C$."
   ]
  },
  {
   "cell_type": "code",
   "execution_count": 5,
   "metadata": {
    "deletable": false,
    "nbgrader": {
     "cell_type": "code",
     "checksum": "3533b24aca74ece990adec605fd3fc44",
     "grade": false,
     "grade_id": "cell-44fd8adc34c64c29",
     "locked": false,
     "schema_version": 3,
     "solution": true,
     "task": false
    }
   },
   "outputs": [],
   "source": [
    "def construire_b(n):\n",
    "    b = np.ones(n)\n",
    "    global C\n",
    "    C = 2\n",
    "    return b"
   ]
  },
  {
   "cell_type": "code",
   "execution_count": 6,
   "metadata": {
    "deletable": false,
    "editable": false,
    "nbgrader": {
     "cell_type": "code",
     "checksum": "9367e091a134a660b918387bef463160",
     "grade": true,
     "grade_id": "cell-adec2c474ed57c2e",
     "locked": true,
     "points": 1,
     "schema_version": 3,
     "solution": false,
     "task": false
    }
   },
   "outputs": [
    {
     "name": "stdout",
     "output_type": "stream",
     "text": [
      "vec_b =  [1. 1. 1. 1. 1. 1. 1. 1. 1. 1.]\n"
     ]
    }
   ],
   "source": [
    "## On vérifie votre vecteur b.\n",
    "\n",
    "# Calcul du vecteur que vous avez construit pour N=10.\n",
    "vec_b_test=construire_b(10)\n",
    "# Puis on affiche le vecteur.\n",
    "print('vec_b = ',vec_b_test)\n"
   ]
  },
  {
   "cell_type": "code",
   "execution_count": 7,
   "metadata": {
    "deletable": false,
    "editable": false,
    "nbgrader": {
     "cell_type": "code",
     "checksum": "fdaf89972157a54f191ddb99af78a7c9",
     "grade": false,
     "grade_id": "cell-4bad31ab609908c5",
     "locked": true,
     "schema_version": 3,
     "solution": false,
     "task": false
    }
   },
   "outputs": [],
   "source": [
    "## On construit la matrice A et le vecteur b de notre problème pour N=10.\n",
    "## Ils seront utilisés dans les questions suivantes.\n",
    "N = 10\n",
    "mat_A=construire_A(N)\n",
    "vec_b=construire_b(N)"
   ]
  },
  {
   "cell_type": "markdown",
   "metadata": {
    "deletable": false,
    "editable": false,
    "nbgrader": {
     "cell_type": "markdown",
     "checksum": "beda1576f78c0587a9bbabb9ccc3cd9b",
     "grade": false,
     "grade_id": "cell-451cee8a9eb405fc",
     "locked": true,
     "schema_version": 3,
     "solution": false,
     "task": false
    }
   },
   "source": [
    "**Q3)** Programmer la fonction `fct_J` en utilisant `mat_A` et `vect_b` et la constante $C$."
   ]
  },
  {
   "cell_type": "code",
   "execution_count": 50,
   "metadata": {
    "deletable": false,
    "nbgrader": {
     "cell_type": "code",
     "checksum": "de3a24464a47b8ae3ed32b25ffa7eacd",
     "grade": false,
     "grade_id": "cell-31e9e0584f6c5ab3",
     "locked": false,
     "schema_version": 3,
     "solution": true,
     "task": false
    }
   },
   "outputs": [],
   "source": [
    "## Définition de la fonctionnelle J.\n",
    "def fct_J(x):\n",
    "    # J = 0.5 * (mat_A @ x) @ x - C * (vec_b @ x)\n",
    "    J = x @ (0.5*mat_A @ x - C *vec_b) \n",
    "    return J"
   ]
  },
  {
   "cell_type": "code",
   "execution_count": 18,
   "metadata": {
    "deletable": false,
    "editable": false,
    "nbgrader": {
     "cell_type": "code",
     "checksum": "34501714671823c9718ba6d25890987b",
     "grade": true,
     "grade_id": "cell-0a85b13436d8052e",
     "locked": true,
     "points": 1,
     "schema_version": 3,
     "solution": false,
     "task": false
    }
   },
   "outputs": [
    {
     "name": "stdout",
     "output_type": "stream",
     "text": [
      "fct_J(x_test) =  19.551751294162585\n"
     ]
    }
   ],
   "source": [
    "## On teste votre fonctionnelle J sur un vecteur test.\n",
    "C=2\n",
    "# Definition d'un vecteur test aléatoire.\n",
    "x_test=np.random.randn(N)\n",
    "# Valeur de la fonctionnelle pour ce vecteur test.\n",
    "print('fct_J(x_test) = ',fct_J(x_test))\n"
   ]
  },
  {
   "cell_type": "markdown",
   "metadata": {
    "deletable": false,
    "editable": false,
    "nbgrader": {
     "cell_type": "markdown",
     "checksum": "e446f821321566d09a5d7aa9274ba5d3",
     "grade": false,
     "grade_id": "cell-92c12453ae7df0a8",
     "locked": true,
     "schema_version": 3,
     "solution": false,
     "task": false
    }
   },
   "source": [
    "**Q4)** Programmer la fonction `fct_gradJ` qui renvoie le gradient de la fonctionnelle $J$, toujours en utilisant `mat_A`et `vec_b` et la constante $C$."
   ]
  },
  {
   "cell_type": "code",
   "execution_count": 19,
   "metadata": {
    "deletable": false,
    "nbgrader": {
     "cell_type": "code",
     "checksum": "3dd36fc46f36445f84709b358b744787",
     "grade": false,
     "grade_id": "cell-04ad282ee5e0d71a",
     "locked": false,
     "schema_version": 3,
     "solution": true,
     "task": false
    }
   },
   "outputs": [],
   "source": [
    "def fct_gradJ(x):\n",
    "    grad_J = mat_A @ x - C * vec_b\n",
    "    return grad_J"
   ]
  },
  {
   "cell_type": "code",
   "execution_count": 20,
   "metadata": {
    "deletable": false,
    "editable": false,
    "nbgrader": {
     "cell_type": "code",
     "checksum": "cea68acc4a70aab107a10ef05bff2a55",
     "grade": true,
     "grade_id": "cell-5dfc4ea84363e977",
     "locked": true,
     "points": 1,
     "schema_version": 3,
     "solution": false,
     "task": false
    }
   },
   "outputs": [
    {
     "name": "stdout",
     "output_type": "stream",
     "text": [
      "fct_gradJ(x_test) =  [-0.56390829 -4.08524617 -0.24295038 -4.60552189  0.56010769 -4.68970071\n",
      "  0.800278   -3.68137368 -1.15545142 -2.33623315]\n"
     ]
    }
   ],
   "source": [
    "## On teste votre gradient de fonctionnelle J sur un vecteur test.\n",
    "\n",
    "# Definition d'un vecteur test aléatoire.\n",
    "x_test=np.random.randn(N)\n",
    "# Valeur du gradient de la fonctionnelle pour ce vecteur test.\n",
    "print('fct_gradJ(x_test) = ',fct_gradJ(x_test))\n"
   ]
  },
  {
   "cell_type": "markdown",
   "metadata": {
    "deletable": false,
    "editable": false,
    "nbgrader": {
     "cell_type": "markdown",
     "checksum": "a1ad2c09b23706a9cf40a2758b66c0a1",
     "grade": false,
     "grade_id": "cell-0c4c97cc86909dfd",
     "locked": true,
     "schema_version": 3,
     "solution": false,
     "task": false
    }
   },
   "source": [
    "**Q5)** Programmer la fonction `contraintes` qui doit rendre 'True' ou 'False', si les contraintes sont respectivement vérifiées ou violées."
   ]
  },
  {
   "cell_type": "code",
   "execution_count": 21,
   "metadata": {
    "deletable": false,
    "nbgrader": {
     "cell_type": "code",
     "checksum": "8f6981065d967b35945009a1ad20fe6b",
     "grade": false,
     "grade_id": "cell-28b2cbc05625e626",
     "locked": false,
     "schema_version": 3,
     "solution": true,
     "task": false
    }
   },
   "outputs": [],
   "source": [
    "def contraintes(x,p,q):\n",
    "    return (x[0] <= p) and (x[-1] <= q)"
   ]
  },
  {
   "cell_type": "code",
   "execution_count": 22,
   "metadata": {
    "deletable": false,
    "editable": false,
    "nbgrader": {
     "cell_type": "code",
     "checksum": "d70ce92302fd36d98843ec044f5e5af9",
     "grade": true,
     "grade_id": "cell-2b4a9aec7310f196",
     "locked": true,
     "points": 2,
     "schema_version": 3,
     "solution": false,
     "task": false
    }
   },
   "outputs": [
    {
     "name": "stdout",
     "output_type": "stream",
     "text": [
      "x_test =  [ 0.22664037 -2.25104418  2.87089718 -1.48093834 -0.02262924 -0.9893277\n",
      " -1.47838913  0.68901715 -0.62091914  1.34026727]  et contraintes =  False\n"
     ]
    }
   ],
   "source": [
    "## On teste si votre fonction `contraintes` rend le bon résultat.\n",
    "# On fixe des contraintes.\n",
    "p = 0\n",
    "q = 90\n",
    "# On définit un vecteur test aléatoire.\n",
    "x_test=np.random.randn(N)\n",
    "# On affiche le vecteur et le résultat de votre fonction.\n",
    "print('x_test = ',x_test, ' et contraintes = ',contraintes(x_test,p,q))\n"
   ]
  },
  {
   "cell_type": "markdown",
   "metadata": {
    "deletable": false,
    "editable": false,
    "nbgrader": {
     "cell_type": "markdown",
     "checksum": "dbc60f091285ecd513a500bbbf466272",
     "grade": false,
     "grade_id": "cell-2441d483c42dd60f",
     "locked": true,
     "schema_version": 3,
     "solution": false,
     "task": false
    }
   },
   "source": [
    "## 2) Algorithmes de descente sans contrainte\n",
    "\n",
    "Les algorithmes du gradient à pas fixe et à pas optimal vous sont donnés ci-dessous dans les parties 2-a) et 2-b). Ces algorithmes sont complets et **vous n'avez pas à les modifier**. Il n'y a des questions que dans la partie 2-c).\n",
    "Le but de cette partie est de mettre en place la procédure adéquate pour utiliser ces algorithmes de descente sans contrainte pour traiter le problème précédent."
   ]
  },
  {
   "cell_type": "markdown",
   "metadata": {
    "deletable": false,
    "editable": false,
    "nbgrader": {
     "cell_type": "markdown",
     "checksum": "e916075a455e820250419b8b14d0df45",
     "grade": false,
     "grade_id": "cell-1bee2b0ce6768bdf",
     "locked": true,
     "schema_version": 3,
     "solution": false,
     "task": false
    }
   },
   "source": [
    "### 2-a) Algorithme de gradient à pas fixe\n",
    "\n",
    "On implémente ici la méthode du gradient à pas fixe. \n",
    "Les arguments sont : la fonctionnelle à minimiser `f`, son gradient `df` et un point initial`x_init`. On y ajoute les arguments optionnels suivants : le pas du gradient `pas`, la tolérance demandée `tol` et le nombre maximal d'itérations `maxiter`.\n",
    "\n",
    "On construit la suite $x^{(k)}$ définie par :\n",
    "\n",
    "\\begin{equation}\n",
    "\\left\\{\n",
    "\\begin{aligned}\n",
    "&x^{(0)} \\in \\mathbb R^N \\text{ quelconque} \\\\\n",
    "&x^{(k+1)} = x^{(k)} - h \\nabla J(x^{(k)}),\n",
    "\\end{aligned}\n",
    "\\right.\n",
    "\\end{equation}\n",
    "\n",
    "où $h > 0$ est le pas de l'algorithme.\n"
   ]
  },
  {
   "cell_type": "code",
   "execution_count": 23,
   "metadata": {
    "deletable": false,
    "editable": false,
    "nbgrader": {
     "cell_type": "code",
     "checksum": "5dd4460de44c9d2192de63ccd6037977",
     "grade": false,
     "grade_id": "cell-d9836db2659653cd",
     "locked": true,
     "schema_version": 3,
     "solution": false,
     "task": false
    }
   },
   "outputs": [],
   "source": [
    "def gradientPasFixe(f,df,x_init,pas=1e-01,tol=1e-06,maxiter=200):\n",
    "    \n",
    "    # Initialisation.\n",
    "    x=x_init.copy()\n",
    "    xtab=[]\n",
    "    ftab=[]\n",
    "    \n",
    "    xtab.append(x) # On ajoute x à la liste xtab.\n",
    "    ftab.append(f(x)) # On ajoute f(x) à la liste ftab.\n",
    "    \n",
    "    it=0 # Compteur d'itérations.\n",
    "    \n",
    "    while((it==0) or (it<maxiter and np.linalg.norm(df(xtab[-1]))>tol)):\n",
    "        \n",
    "        # Descente à pas fixe.\n",
    "        x=x-pas*df(x)\n",
    "        # Enregistrement des valeurs dans les listes.\n",
    "        xtab.append(x)\n",
    "        ftab.append(f(x))\n",
    "        # Incrementation du compteur.\n",
    "        it=it+1\n",
    "    \n",
    "    # Booléen pour indiquer la convergence.\n",
    "    if(it==maxiter) or (np.isnan(np.linalg.norm(x))==True):\n",
    "        conv = False\n",
    "    else:\n",
    "        conv = True\n",
    "    \n",
    "    return xtab, ftab, conv"
   ]
  },
  {
   "cell_type": "markdown",
   "metadata": {
    "deletable": false,
    "editable": false,
    "nbgrader": {
     "cell_type": "markdown",
     "checksum": "ac6c87cc4f4a7fcfb0cea34469a91375",
     "grade": false,
     "grade_id": "cell-a4fc3cdfebb89418",
     "locked": true,
     "schema_version": 3,
     "solution": false,
     "task": false
    }
   },
   "source": [
    "### 2-b) Algorithme du gradient pas optimal\n",
    "\n",
    "On implémente maintenant l'algorithme du gradient à pas optimal dans le cas d'une fonctionnelle quadratique (ce qui sera suffisant ici).\n",
    "On construit donc la suite $x^{(k)}$ définie par :\n",
    "\n",
    "\\begin{equation}\n",
    "\\left\\{\n",
    "\\begin{aligned}\n",
    "&x^{(0)} \\in \\mathbb R^N \\text{ quelconque} \\\\\n",
    "&x^{(k+1)} = x^{(k)} - h^{(k)} \\nabla J(x^{(k)}),\n",
    "\\end{aligned}\n",
    "\\right.\n",
    "\\end{equation}\n",
    "\n",
    "où le pas de descente $h^{(k)}$ est choisi tel que :\n",
    "\n",
    "$$ J(x^{(k+1)})=\\min_{h \\in \\mathbb R} J(x^{(k)}-h\\nabla J(x^{(k)})).$$"
   ]
  },
  {
   "cell_type": "code",
   "execution_count": 24,
   "metadata": {
    "deletable": false,
    "editable": false,
    "nbgrader": {
     "cell_type": "code",
     "checksum": "84d7091fdfb46463f6f598bb62911263",
     "grade": false,
     "grade_id": "cell-221490fcbfed382a",
     "locked": true,
     "schema_version": 3,
     "solution": false,
     "task": false
    }
   },
   "outputs": [],
   "source": [
    "def gradientPasOpt(f,df,x_init,tol=1e-06,maxiter=200):\n",
    "    \n",
    "    # Initialisation.\n",
    "    x=x_init.copy()\n",
    "    xtab=[]\n",
    "    ftab=[]\n",
    "    \n",
    "    xtab.append(x) # On ajoute x à la liste xtab.\n",
    "    ftab.append(f(x)) # On ajoute f(x) à la liste ftab.\n",
    "    \n",
    "    it=0 # Compteur d'itérations.\n",
    "    \n",
    "    while((it==0) or (it<maxiter and np.linalg.norm(df(xtab[-1]))>tol)):\n",
    "        \n",
    "        # Calcul du pas optimal.\n",
    "        r=df(x)\n",
    "        b=df(0*x)\n",
    "        matAr=df(r)-b\n",
    "        pas=np.dot(r,r)/np.dot(r,matAr)\n",
    "        # Descente à pas optimal.\n",
    "        x=x-pas*df(x)\n",
    "        # Enregistrement des valeurs dans les listes.\n",
    "        xtab.append(x)\n",
    "        ftab.append(f(x))\n",
    "        # Incrementation du compteur.\n",
    "        it=it+1\n",
    "    \n",
    "    # Booléen pour indiquer la convergence.\n",
    "    if(it==maxiter) or (np.isnan(np.linalg.norm(x))==True):\n",
    "        conv = False\n",
    "    else:\n",
    "        conv = True\n",
    "    \n",
    "    return xtab, ftab, conv"
   ]
  },
  {
   "cell_type": "markdown",
   "metadata": {
    "deletable": false,
    "editable": false,
    "nbgrader": {
     "cell_type": "markdown",
     "checksum": "712e67c6b3075c0a522fd9a76f916274",
     "grade": false,
     "grade_id": "cell-be5a7dde5fea8b23",
     "locked": true,
     "schema_version": 3,
     "solution": false,
     "task": false
    }
   },
   "source": [
    "### 2-c) Nouvelle fonctionnelle sans contrainte à gauche\n",
    "Si on fixe la valeur de $x_1$ à la valeur $p$ de la contrainte à gauche, alors le problème devient sans contrainte à gauche, mais il faut modifier la fonctionnelle en conséquence.\n",
    "\n",
    "**Q6)** Modifier la fonctionnelle $J$ pour construire une fonctionnelle $J_g: \\mathbb R^{N-1} \\rightarrow \\mathbb R$ qui s'applique à un vecteur $x:=(x_2, \\dots, x_N)$ telle que $J_g(x) = J(y)$ avec $y=(p,x)$ le vecteur de $R^N$ avec  sa valeur extrémale gauche $y_1$ fixée à la valeur $p$, i.e.\n",
    "$$\n",
    "J_g(x) = p\\left(A_{1,1}p + \\sum_{j=2}^N A_{1,j}x_j\\right) + \\sum_{i=2}^N  x_i\\left(A_{i,1}p + \\sum_{j=2}^N A_{i,j}x_j\\right) - \\sum_{i=2}^N b_i x_i - b_1 p.\n",
    "$$\n",
    "Programmer la fonction `fct_J_gauche` qui s'applique sur un vecteur $x$ de $\\mathbb R^{N-1}$ et qui le complète avec la valeur $p$ de la contrainte dans sa composante $x_1$.\n",
    "Attention, la valeur de $p$ est une valeur globalement définie qui doit apparaître dans l'écriture de la fonction `fct_J_gauche` pour construire le vecteur $y=(p,x)$."
   ]
  },
  {
   "cell_type": "code",
   "execution_count": 55,
   "metadata": {
    "deletable": false,
    "nbgrader": {
     "cell_type": "code",
     "checksum": "4fb1b9ab2de1c753650aed999d999029",
     "grade": false,
     "grade_id": "cell-b20f4bfe882c61cb",
     "locked": false,
     "schema_version": 3,
     "solution": true,
     "task": false
    }
   },
   "outputs": [],
   "source": [
    "## Définition de la fonctionnelle J_g.\n",
    "def fct_J_gauche(x):\n",
    "    global p\n",
    "    N = len(x)\n",
    "    A = construire_A(N+1)\n",
    "    b = construire_b(N+1)\n",
    "    y = np.insert(x, 0, p)\n",
    "    Jg = y @ (0.5*A @ y - C*b)\n",
    "    return Jg"
   ]
  },
  {
   "cell_type": "code",
   "execution_count": 56,
   "metadata": {
    "deletable": false,
    "editable": false,
    "nbgrader": {
     "cell_type": "code",
     "checksum": "4db70b25f0c6886d9867e86ad8e304a4",
     "grade": true,
     "grade_id": "cell-94cefbb341c6ec66",
     "locked": true,
     "points": 2,
     "schema_version": 3,
     "solution": false,
     "task": false
    }
   },
   "outputs": [
    {
     "name": "stdout",
     "output_type": "stream",
     "text": [
      "fct_J_gauche(x_test) =  -450.0\n",
      "fct_J(x_test) =  -450.0\n"
     ]
    }
   ],
   "source": [
    "## Verifier votre fonctionnelle J_g\n",
    "p = 0\n",
    "print('fct_J_gauche(x_test) = ',fct_J_gauche([10,20,30,40,50,60,70,80,90]))\n",
    "print('fct_J(x_test) = ',fct_J([0,10,20,30,40,50,60,70,80,90]))\n"
   ]
  },
  {
   "cell_type": "markdown",
   "metadata": {
    "deletable": false,
    "editable": false,
    "nbgrader": {
     "cell_type": "markdown",
     "checksum": "ecd9143166ede2bcc4effcfd1ca56d7d",
     "grade": false,
     "grade_id": "cell-1c1d58218a1607cc",
     "locked": true,
     "schema_version": 3,
     "solution": false,
     "task": false
    }
   },
   "source": [
    "**Q7)** Programmer la fonction `fct_gradJ_gauche`qui renvoie le gradient de la fonction $J_g$."
   ]
  },
  {
   "cell_type": "code",
   "execution_count": 68,
   "metadata": {
    "deletable": false,
    "nbgrader": {
     "cell_type": "code",
     "checksum": "ad2f40620c505ec72c8d3b770f285a52",
     "grade": false,
     "grade_id": "cell-20f0597157c89f84",
     "locked": false,
     "schema_version": 3,
     "solution": true,
     "task": false
    }
   },
   "outputs": [],
   "source": [
    "def fct_gradJ_gauche(x):\n",
    "    global p\n",
    "    y = np.insert(x, 0, p)\n",
    "    N = len(x)\n",
    "    A = construire_A(N+1)\n",
    "    b = construire_b(N+1)\n",
    "    # grad_Jg = 2 * A @ y - b\n",
    "    grad_Jg = A @ y - C* b\n",
    "    return grad_Jg[1:]"
   ]
  },
  {
   "cell_type": "code",
   "execution_count": 69,
   "metadata": {
    "deletable": false,
    "editable": false,
    "nbgrader": {
     "cell_type": "code",
     "checksum": "f576688ed9d56251ee5e8adaad3ff10b",
     "grade": true,
     "grade_id": "cell-83c7f6d9e5c4d5cd",
     "locked": true,
     "points": 2,
     "schema_version": 3,
     "solution": false,
     "task": false
    }
   },
   "outputs": [
    {
     "name": "stdout",
     "output_type": "stream",
     "text": [
      "fct_gradJ_gauche(x_test) =  [-2. -2. -2. -2. -2. -2. -2. -2.  8.]\n"
     ]
    }
   ],
   "source": [
    "## Verifier votre valeur du gradient de la fonctionnelle J_g.\n",
    "p = 0\n",
    "print('fct_gradJ_gauche(x_test) = ',fct_gradJ_gauche([10,20,30,40,50,60,70,80,90]))\n"
   ]
  },
  {
   "cell_type": "markdown",
   "metadata": {
    "deletable": false,
    "editable": false,
    "nbgrader": {
     "cell_type": "markdown",
     "checksum": "d6446283d3a3d7fe33537ba9c3df0ec3",
     "grade": false,
     "grade_id": "cell-c0bf431a1b84f50e",
     "locked": true,
     "schema_version": 3,
     "solution": false,
     "task": false
    }
   },
   "source": [
    "On peut maintenant appliquer les algorithmes de gradient à pas fixe et pas optimal à cette nouvelle fonctionnelle $J_g$. Concernant l'algorithme de gradient à pas fixe, on peut fixer ce pas à une valeur \"optimale\" si on connaît les valeurs propres de la matrice $A$.\n",
    "\n",
    "Pour tester la convergence, on a besoin d'une solution exacte. Dans le cas particulier où $N=10$, $C=2$, $p=0$ et $q=90$, on peut montrer que la solution du problème est le vecteur\n",
    "$(0, 18, 34, 48, 60, 70, 78, 84, 88, 90)$."
   ]
  },
  {
   "cell_type": "code",
   "execution_count": 70,
   "metadata": {
    "deletable": false,
    "editable": false,
    "nbgrader": {
     "cell_type": "code",
     "checksum": "63df2b21df3373b36839418734617da4",
     "grade": false,
     "grade_id": "cell-e7aaa16c7affe5d8",
     "locked": true,
     "schema_version": 3,
     "solution": false,
     "task": false
    }
   },
   "outputs": [],
   "source": [
    "# On fixe les paramètres N=10, C=2, p=0 et q=90 pour tester les méthodes.\n",
    "N = 10\n",
    "C = 2\n",
    "p = 0\n",
    "q = 90\n",
    "\n",
    "# Calcul des valeurs propres \"vp\" de la matrice A pour pouvoir calculer le pas optimal.\n",
    "vp,_=np.linalg.eigh(mat_A.todense())\n",
    "\n",
    "# Plus grande valeur propre de A.\n",
    "vp_max=np.max(vp)\n",
    "\n",
    "# Plus petite valeur propre de A.\n",
    "vp_min=np.min(vp)\n",
    "\n",
    "# Pas optimal pour l'algorithme du gradient à pas fixe.\n",
    "pas_fixe = 4/(3*(vp_min+vp_max))\n",
    "\n",
    "# Pour ce choix précis de paramètres, la solution exacte est\n",
    "sol_complete = np.array([0, 18, 34, 48, 60, 70, 78, 84, 88, 90])\n",
    "# On enlève sa première composante pour obtenir un vecteur de taille N-1.\n",
    "sol = np.array([18, 34, 48, 60, 70, 78, 84, 88, 90])\n",
    "\n",
    "# On choisit un point de départ aléatoire pour tester la convergence des algorithmes.\n",
    "x_init=np.random.randn(N-1)"
   ]
  },
  {
   "cell_type": "code",
   "execution_count": 71,
   "metadata": {
    "deletable": false,
    "editable": false,
    "nbgrader": {
     "cell_type": "code",
     "checksum": "b9399d515fe652c444ca39046ec3a63a",
     "grade": false,
     "grade_id": "cell-b19f5779a7552c2c",
     "locked": true,
     "schema_version": 3,
     "solution": false,
     "task": false
    }
   },
   "outputs": [
    {
     "name": "stdout",
     "output_type": "stream",
     "text": [
      "vp_min= -5.164518117804871e-16  vp_max= 3.902113032590307  pas_fixe= 0.3416952103123056\n"
     ]
    }
   ],
   "source": [
    "print('vp_min=',vp_min,' vp_max=',vp_max,' pas_fixe=',pas_fixe)"
   ]
  },
  {
   "cell_type": "code",
   "execution_count": 74,
   "metadata": {
    "deletable": false,
    "editable": false,
    "nbgrader": {
     "cell_type": "code",
     "checksum": "de91544a51d1b645c97462ade75957ad",
     "grade": false,
     "grade_id": "cell-b8481c223eed8e9a",
     "locked": true,
     "schema_version": 3,
     "solution": false,
     "task": false
    }
   },
   "outputs": [
    {
     "name": "stdout",
     "output_type": "stream",
     "text": [
      "=================================\n",
      "Algorithme du gradient à pas fixe\n",
      "Erreur =  3.63776520362637e-05\n",
      "Convergence = True\n",
      "Nombre d itérations =  1660\n",
      "Solution approchée =  [17.99999725 33.99999458 47.99999206 59.99998975 69.99998772 77.99998603\n",
      " 83.99998471 87.99998382 89.99998337]\n",
      "=================================\n",
      "Algorithme du gradient à pas optimal\n",
      "Erreur =  2.663077726426402e-05\n",
      "Convergence = True\n",
      "Nombre d itérations =  1123\n",
      "Solution approchée =  [17.99999801 33.99999598 47.99999425 59.99999242 69.99999109 77.9999897\n",
      " 83.99998887 87.99998812 89.99998784]\n"
     ]
    }
   ],
   "source": [
    "print('=================================')\n",
    "print('Algorithme du gradient à pas fixe')\n",
    "x_PasFixe, f_PasFixe, conv_PasFixe = gradientPasFixe(fct_J_gauche,fct_gradJ_gauche,x_init,pas_fixe,1e-6,5000)\n",
    "print('Erreur = ',np.linalg.norm(sol-x_PasFixe[-1]))\n",
    "print('Convergence =',conv_PasFixe)\n",
    "print('Nombre d itérations = ',np.shape(x_PasFixe)[0]-1)\n",
    "print('Solution approchée = ',x_PasFixe[-1])\n",
    "\n",
    "print('=================================')\n",
    "print('Algorithme du gradient à pas optimal')\n",
    "x_PasOpt, f_PasOpt, conv_PasOpt = gradientPasOpt(fct_J_gauche,fct_gradJ_gauche,x_init,1e-6,5000)\n",
    "print('Erreur = ',np.linalg.norm(sol-x_PasOpt[-1]))\n",
    "print('Convergence =',conv_PasOpt)\n",
    "print('Nombre d itérations = ',np.shape(x_PasOpt)[0]-1)\n",
    "print('Solution approchée = ',x_PasOpt[-1])"
   ]
  },
  {
   "cell_type": "code",
   "execution_count": 75,
   "metadata": {
    "deletable": false,
    "editable": false,
    "nbgrader": {
     "cell_type": "code",
     "checksum": "2a9660ef0ada599a1dd245da635b0a61",
     "grade": false,
     "grade_id": "cell-a224a26764030fab",
     "locked": true,
     "schema_version": 3,
     "solution": false,
     "task": false
    }
   },
   "outputs": [
    {
     "data": {
      "image/png": "[encoded data removed]",
      "text/plain": [
       "<Figure size 1000x1000 with 1 Axes>"
      ]
     },
     "metadata": {},
     "output_type": "display_data"
    }
   ],
   "source": [
    "# On affiche la convergence des algorithmes.\n",
    "plt.figure(figsize=(10, 10))\n",
    "plt.semilogy(np.linalg.norm(x_PasFixe-sol,axis=1),'-b')\n",
    "plt.semilogy(np.linalg.norm(x_PasOpt-sol,axis=1),'-r')\n",
    "plt.legend(['Pas fixe','Pas optimal'])\n",
    "plt.title('Vitesse de convergence')\n",
    "plt.xlabel('Itérations')\n",
    "plt.ylabel('Erreur')\n",
    "plt.show()"
   ]
  },
  {
   "cell_type": "markdown",
   "metadata": {
    "deletable": false,
    "editable": false,
    "nbgrader": {
     "cell_type": "markdown",
     "checksum": "39ced61574f49efaa5fe75435d021b3c",
     "grade": false,
     "grade_id": "cell-a259708308fe5e60",
     "locked": true,
     "schema_version": 3,
     "solution": false,
     "task": false
    }
   },
   "source": [
    "## 3) Algorithmes de descente avec contraintes\n",
    "\n",
    "Dans cette section, on va mettre en place la procédure adéquate pour utiliser un algorithme de descente avec contraintes. Il s'agit de l'algorithme d'Uzawa.\n",
    "\n",
    "Pour cela, on définit le lagrangien\n",
    "$$\n",
    "\\mathcal L (x,\\mu) = J(x) + \\mu_g (x_1-p)+ \\mu_d (x_N-q)\n",
    "$$\n",
    "et on remarque que lorsque les deux multiplicateurs de Lagrange $\\mu_g$ et $\\mu_d$ sont fixés, alors le lagrangien $\\mathcal L$ est simplement une fonctionnelle quadratique de la forme $J_L : \\mathbb R^{N} \\rightarrow \\mathbb R$ qui s'applique à un vecteur $x:=(x_1, \\dots, x_N)$ telle que\n",
    "$$\n",
    "J_L(x) = \\sum_{i=1}^N x_i \\left(\\sum_{j=1}^N A_{i,j}x_j\\right) - \\sum_{i=1}^{N-1} \\tilde{b}_i x_i + G(\\mu_g,p,\\mu_d,q)\n",
    "$$\n",
    "avec $\\tilde{b}_1 = b_1 - \\mu_g$, $\\tilde{b}_N = b_N - \\mu_d$, $\\tilde{b}_i = b_i$ pour $2 \\leq i \\leq N-1$ et $G(\\mu_g,p,\\mu_d,q)=-\\mu_g p - \\mu_d q$.\n",
    "\n",
    "\n"
   ]
  },
  {
   "cell_type": "markdown",
   "metadata": {
    "deletable": false,
    "editable": false,
    "nbgrader": {
     "cell_type": "markdown",
     "checksum": "fa2818cae13b4d811a836d21a7769779",
     "grade": false,
     "grade_id": "cell-dfc3d0ef7b133686",
     "locked": true,
     "schema_version": 3,
     "solution": false,
     "task": false
    }
   },
   "source": [
    "**Q8)** Programmer la fonction `fct_J_L`."
   ]
  },
  {
   "cell_type": "code",
   "execution_count": 97,
   "metadata": {
    "deletable": false,
    "nbgrader": {
     "cell_type": "code",
     "checksum": "61af549935ed3ef79cb2a13890190dec",
     "grade": false,
     "grade_id": "cell-85ea0af3a98ebd92",
     "locked": false,
     "schema_version": 3,
     "solution": true,
     "task": false
    }
   },
   "outputs": [],
   "source": [
    "## Définition de la fonctionnelle J_L.\n",
    "# On fixe les multiplicateurs de Lagrange et les contraintes à des valeurs arbitraires.\n",
    "# Ces valeurs seront modifiées plus tard.\n",
    "p = 0\n",
    "mu_g = 5\n",
    "q = 90\n",
    "mu_d = 7\n",
    "def fct_J_L(x):\n",
    "    G = - mu_g*p - mu_d*q\n",
    "    b = vec_b\n",
    "    b[0] = b[0] - mu_g\n",
    "    b[-1] = b[-1] - mu_d\n",
    "    Jl = x @ (mat_A @ x - b) + G #+ b[-1]*x[-1]\n",
    "    return Jl"
   ]
  },
  {
   "cell_type": "code",
   "execution_count": 98,
   "metadata": {
    "deletable": false,
    "editable": false,
    "nbgrader": {
     "cell_type": "code",
     "checksum": "f4230e4709ed2d59525d97f1ab55ee36",
     "grade": true,
     "grade_id": "cell-8f98f045c9c9921d",
     "locked": true,
     "points": 3,
     "schema_version": 3,
     "solution": false,
     "task": false
    }
   },
   "outputs": [
    {
     "name": "stdout",
     "output_type": "stream",
     "text": [
      "fct_J(x_test)= 10730.0\n",
      "fct_J_L(x_test)= 7690.0\n"
     ]
    }
   ],
   "source": [
    "## Verifier vos valeurs.\n",
    "x_test = np.append(p,[10,30,20,50,40,70,60,80,q])\n",
    "# Si les contraintes sont actives les fonctionnelles doivent coincider.\n",
    "print('fct_J(x_test)=',fct_J(x_test))\n",
    "print('fct_J_L(x_test)=',fct_J_L(x_test))\n"
   ]
  },
  {
   "cell_type": "markdown",
   "metadata": {
    "deletable": false,
    "editable": false,
    "nbgrader": {
     "cell_type": "markdown",
     "checksum": "f066e694be7d187dc5a995796131f9ef",
     "grade": false,
     "grade_id": "cell-ada16b13a199e55c",
     "locked": true,
     "schema_version": 3,
     "solution": false,
     "task": false
    }
   },
   "source": [
    "**Q9)** Programmer la fonction `fct_gradJ_L` qui renvoie le gradient de la fonction $J_L$."
   ]
  },
  {
   "cell_type": "code",
   "execution_count": null,
   "metadata": {
    "deletable": false,
    "nbgrader": {
     "cell_type": "code",
     "checksum": "0c9c8d782cf5d50b505f9538018866bc",
     "grade": false,
     "grade_id": "cell-535ab78271ce5b42",
     "locked": false,
     "schema_version": 3,
     "solution": true,
     "task": false
    }
   },
   "outputs": [],
   "source": [
    "## Définition du gradient de la fonctionnelle J_L.\n",
    "def fct_gradJ_L(x):\n",
    "    # YOUR CODE HERE\n",
    "    raise NotImplementedError()"
   ]
  },
  {
   "cell_type": "code",
   "execution_count": null,
   "metadata": {
    "deletable": false,
    "editable": false,
    "nbgrader": {
     "cell_type": "code",
     "checksum": "31a89aa406d3318e5c7541205e580ddb",
     "grade": true,
     "grade_id": "cell-e7c25d425b0c6aa8",
     "locked": true,
     "points": 3,
     "schema_version": 3,
     "solution": false,
     "task": false
    }
   },
   "outputs": [],
   "source": [
    "## Verifier vos valeurs.\n",
    "x_test = np.append(p,[10,30,20,50,40,70,60,80,q])\n",
    "# Si les contraintes sont actives les gradients devraient\n",
    "# différer dans les directions des contraintes\n",
    "# (en fonction des valeurs données aux multiplicateurs de Lagrange).\n",
    "print('fct_gradJ(x_test)=',fct_gradJ(x_test))\n",
    "print('fct_gradJ_L(x_test)=',fct_gradJ_L(x_test))\n"
   ]
  },
  {
   "cell_type": "markdown",
   "metadata": {
    "deletable": false,
    "editable": false,
    "nbgrader": {
     "cell_type": "markdown",
     "checksum": "3f2c53417cd15a17e902973439b4993c",
     "grade": false,
     "grade_id": "cell-86414b9ed499f49a",
     "locked": true,
     "schema_version": 3,
     "solution": false,
     "task": false
    }
   },
   "source": [
    "On rappelle l'algorithme d'Uzawa sur le Lagrangien $\\mathcal{L}$. La première des deux étapes d'Uzawa est une étape d'optimisation, et on pourra appliquer un gradient à pas fixe ou à pas optimal pour résoudre cette étape. La deuxième étape est l'étape de mise-à-jour à pas fixe du multiplicateur de Lagrange, suivie d'une projection. On répète ces deux étapes pour $k\\in \\mathbb{N}$ jusqu'à convergence:\n",
    "\\begin{equation}\n",
    "\\left\\{\n",
    "\\begin{aligned}\n",
    "&\\lambda^{(0)}\\in \\mathbb{R}_+^2 \\text{ quelconque} \\\\\n",
    "&x^{(k)} = \\mathrm{arginf}_{x \\in \\mathbb{R}^N} \\mathcal{L}(x,\\lambda^{(k)})\\\\\n",
    "&\\lambda^{(k+1)} = \\Pi_{\\mathbb{R}_+^2}(\\lambda^{(k)} + h (x^{(k)}_1-p,x^{(k)}_N-q))\n",
    "\\end{aligned}\n",
    "\\right.\n",
    "\\end{equation}\n",
    "où le pas $h$ de la deuxième étape est fixé.\n",
    "\n",
    "Afin de décomposer l'algorithme d'Uzawa en plusieurs étapes, on va programmer les différentes étapes dans différentes fonctions.\n",
    "\n",
    "Remarque importante: Pour pouvoir comparer aux algorithmes précédents, on commencera par un vecteur $x_{init} \\in \\mathbb{R}^{N-1}$ choisi aléatoirement complété par la contrainte $x_1=p$ dans sa première composante pour obtenir un vecteur $x^{(-1)} \\in \\mathbb{R}^{N}$. On fixera également $\\lambda^{(-1)}=(0,0)$, et on fera l'étape deux pour trouver la valeur de $\\lambda^{(0)}$ initiale qui permet de démarrer l'algorithme d'Uzawa.\n",
    "\n",
    "Autre remarque importante: Attention ! La fonctionnelle $J$ n'est ni $\\alpha$-convexe, ni strictement convexe, ni même minorée dans $\\mathbb{R}^N$ donc, dans l'étape 1, il n'y a aucune raison que les algorithmes à pas fixe ou pas optimal convergent. Il n'y a pas de solution pour y remédier. En pratique, si $\\lambda^{(-1)}$ et $x^{(-1)}$ sont choisis proches des solutions, et si l'algorithme à pas fixe ne fait pas trop d'itérations, l'algorithme d'Uzawa va converger."
   ]
  },
  {
   "cell_type": "markdown",
   "metadata": {
    "deletable": false,
    "editable": false,
    "nbgrader": {
     "cell_type": "markdown",
     "checksum": "1404c266968ad730984ed607474cc7de",
     "grade": false,
     "grade_id": "cell-fdb511e1d59fd930",
     "locked": true,
     "schema_version": 3,
     "solution": false,
     "task": false
    }
   },
   "source": [
    "**Q10)** Compléter la fonction `etape_deux` qui effectue la mise-à-jour des deux multiplicateurs de Lagrange selon l'étape 2 de l'algorithme d'Uzawa pour des valeurs données en argument (`multi_in`, `pas_uzawa`, `vecteur_x`) avec `multi_in` = $\\lambda^{(k)}$ contenant les deux multiplicateurs dans `multi_in[0]` et `muti_in[1]`, `pas_uzawa`= $h$ et `vecteur_x` le vecteur $(x^{(k)}_1, \\dots, x^{(k)}_N)$. La sortie prend la forme de la donnée `multi_out` préconisée ci-dessous."
   ]
  },
  {
   "cell_type": "code",
   "execution_count": null,
   "metadata": {
    "deletable": false,
    "nbgrader": {
     "cell_type": "code",
     "checksum": "d2f927388054da4d6879eeeeb0ed16e2",
     "grade": false,
     "grade_id": "cell-e788698eec9fb0cb",
     "locked": false,
     "schema_version": 3,
     "solution": true,
     "task": false
    }
   },
   "outputs": [],
   "source": [
    "## Définition de la mise-à-jour des deux multiplicateurs de Lagrange dans J_L.\n",
    "def etape_deux(multi_in, pas_uzawa, vecteur_x):\n",
    "    multi_out=[0,0]\n",
    "    # YOUR CODE HERE\n",
    "    raise NotImplementedError()\n",
    "    return multi_out"
   ]
  },
  {
   "cell_type": "code",
   "execution_count": null,
   "metadata": {
    "deletable": false,
    "editable": false,
    "nbgrader": {
     "cell_type": "code",
     "checksum": "bc46400db340dca5986cd249ef5c62ae",
     "grade": true,
     "grade_id": "cell-d3a193c453b0bd74",
     "locked": true,
     "points": 3,
     "schema_version": 3,
     "solution": false,
     "task": false
    }
   },
   "outputs": [],
   "source": [
    "## Verifier votre mise à jour à l'étape 2.\n",
    "## avec les conditions suivantes :\n",
    "x_test = np.append(p,[10,30,20,50,40,70,60,80,q])\n",
    "print('Nouveau multiplicateurs = ',etape_deux([1,2], 0.01, x_test))\n",
    "x_test = np.append(p-1,[10,30,20,50,40,70,60,80,q])\n",
    "print('Nouveau multiplicateurs = ',etape_deux([1,2], 0.01, x_test))\n"
   ]
  },
  {
   "cell_type": "markdown",
   "metadata": {
    "deletable": false,
    "editable": false,
    "nbgrader": {
     "cell_type": "markdown",
     "checksum": "70ddd64e2ddca27f926de3e477ef2990",
     "grade": false,
     "grade_id": "cell-b6a303a35c5a19d5",
     "locked": true,
     "schema_version": 3,
     "solution": false,
     "task": false
    }
   },
   "source": [
    "On définit l'algorithme d'Uzawa suivant. \"Normalement\", tout devrait bien se passer, et les cellules suivantes illustrent la vitesse de convergence de cet algorithme."
   ]
  },
  {
   "cell_type": "code",
   "execution_count": null,
   "metadata": {
    "deletable": false,
    "editable": false,
    "nbgrader": {
     "cell_type": "code",
     "checksum": "9f6b1231ceb8847ec44b03b6c50a974b",
     "grade": false,
     "grade_id": "cell-1824ec3ef7f801ec",
     "locked": true,
     "schema_version": 3,
     "solution": false,
     "task": false
    }
   },
   "outputs": [],
   "source": [
    "def uzawa(f,df,x_init,pas_uzawa,tol=1e-06,maxiter=1000):\n",
    "    \n",
    "    global mu_g # Pour pouvoir modifier les valeurs de mu_g dans J_L.\n",
    "    global mu_d # Pour pouvoir modifier les valeurs de mu_d dans J_L.\n",
    "    \n",
    "    # Initialisation.\n",
    "    # x_init est un vecteur de R^{N-1}\n",
    "    # Le vecteur y est un vecteur de R^N, sa première composante est initialisée\n",
    "    # à la contrainte p et le multiplicateur \\lambda est initialisé à (0,0)\n",
    "    x=x_init.copy()\n",
    "    y=np.append(p,x)\n",
    "    l=[0,0]\n",
    "    xtab=[]\n",
    "    ltab=[]\n",
    "    ftab=[]\n",
    "    \n",
    "    xtab.append(x) # On ajoute x à la liste xtab.\n",
    "    ltab.append(l) # On ajoute l à la liste ltab.\n",
    "    ftab.append(f(y)) # On ajoute f(y) à la la liste ftab.\n",
    "    # Attention, la fonction f agit bien sur un vecteur de R^N, donc sur y.\n",
    "    \n",
    "    it=0 # Compteur d'itérations.\n",
    "    \n",
    "    while((it==0) or (it<maxiter and np.linalg.norm(df(y))>tol)):\n",
    "        # print('Uzawa: iteration numero ',it)\n",
    "        # Mise-à-jour des multiplicateurs de Lagrange dans J_L.\n",
    "        mu_g = l[0]\n",
    "        mu_d = l[1]\n",
    "\n",
    "        # Recherche du minimum du Lagrangien avec les multiplicateurs de Lagrange fixés\n",
    "        # par un algorithme de gradient à pas fixe.\n",
    "        # On force un faible nombre d'itérations dans l'algorithme à pas fixe\n",
    "        # pour éviter des divergences à cette étape.\n",
    "        y_PasFixe, f_PasFixe, conv_PasFixe = gradientPasFixe(f,df,y,pas_fixe,tol,10)\n",
    "        y = y_PasFixe[-1]\n",
    "        # Increment à pas fixe des multiplicateurs de Lagrange.\n",
    "        l = etape_deux(l, pas_uzawa, y)\n",
    "        \n",
    "        # Enregistrement des valeurs dans les tableaux.\n",
    "        x=y[1:]\n",
    "        xtab.append(x)\n",
    "        ltab.append(l)\n",
    "        ftab.append(f(y))\n",
    "        \n",
    "        # Incrementation du compteur de boucle.\n",
    "        it=it+1\n",
    "    \n",
    "    # Booléen pour indiquer la convergence.\n",
    "    if(it==maxiter) or (np.isnan(np.linalg.norm(y))==True):\n",
    "        conv = False\n",
    "    else:\n",
    "        conv = True\n",
    "    \n",
    "    return xtab, ftab, conv"
   ]
  },
  {
   "cell_type": "code",
   "execution_count": null,
   "metadata": {
    "deletable": false,
    "editable": false,
    "nbgrader": {
     "cell_type": "code",
     "checksum": "8b4638e9bb3488f3f446e0cbd13c9531",
     "grade": false,
     "grade_id": "cell-770e95224b450be0",
     "locked": true,
     "schema_version": 3,
     "solution": false,
     "task": false
    }
   },
   "outputs": [],
   "source": [
    "# La taille du pas_fixe pour l'algorithme de gradient à pas fixe a été calculée préalablement.\n",
    "# Taille du pas dans l'algorithme d'Uzawa.\n",
    "pas_uzawa = 0.1\n",
    "print('pas_fixe =',pas_fixe,' pas_uzawa =',pas_uzawa)\n",
    "\n",
    "# Verification de la convergence de l'algorithme d'Uzawa.\n",
    "N = 10\n",
    "C = 2\n",
    "p = 0\n",
    "q = 90\n",
    "mu_g = 20\n",
    "mu_d = 0\n",
    "pas_uzawa = 0.1\n",
    "sol_Uzawa_true = np.array([18, 34, 48, 60, 70, 78, 84, 88, 90])\n",
    "\n",
    "print('N, C, p, q, mu_g, mu_d =',N, C, p, q, mu_g, mu_d)\n",
    "\n",
    "# Initialisation d'un vecteur dans R^{N-1}.\n",
    "# On peut tester avec un point random.\n",
    "x_init_test = np.array([-0.48004334, -1.02918846, 0.22171496, 0.72766597, -0.31981484,\n",
    "                   -0.93797772, 0.39566158, 1.18174939, -1.03269128])\n",
    "x_Uzawa_student, f_Uzawa_student, conv_Uzawa_student = uzawa(fct_J_L,fct_gradJ_L,x_init_test,pas_uzawa,1e-6,1000)\n",
    "sol_Uzawa_student = x_Uzawa_student[-1]\n",
    "\n",
    "# On peut tester avec la vraie solution comme point initial.\n",
    "x_init_test = sol_Uzawa_true\n",
    "x_Uzawa_student, f_Uzawa_student, conv_Uzawa_student = uzawa(fct_J_L,fct_gradJ_L,x_init_test,pas_uzawa,1e-6,1000)\n",
    "sol_Uzawa_student = x_Uzawa_student[-1]"
   ]
  },
  {
   "cell_type": "code",
   "execution_count": null,
   "metadata": {
    "deletable": false,
    "editable": false,
    "nbgrader": {
     "cell_type": "code",
     "checksum": "044d41247eceb5dd12fd35372fe570df",
     "grade": false,
     "grade_id": "cell-8abd203454ea6dda",
     "locked": true,
     "schema_version": 3,
     "solution": false,
     "task": false
    }
   },
   "outputs": [],
   "source": [
    "print('=================================')\n",
    "print('Algorithme d''Uzawa')\n",
    "x_Uzawa, f_Uzawa, conv_Uzawa = uzawa(fct_J_L,fct_gradJ_L,x_init,pas_uzawa,1e-6,1000)\n",
    "print('Erreur = ',np.linalg.norm(sol-x_Uzawa[-1]))\n",
    "print('Convergence =',conv_Uzawa)\n",
    "print('Nombre d itérations = ',np.shape(x_Uzawa)[0]-1)\n",
    "print('Solution approchée = ',x_Uzawa[-1])"
   ]
  },
  {
   "cell_type": "code",
   "execution_count": null,
   "metadata": {
    "deletable": false,
    "editable": false,
    "nbgrader": {
     "cell_type": "code",
     "checksum": "d41b533e1e0228d5f39a82a4c83fb621",
     "grade": false,
     "grade_id": "cell-226d8c4effdb5dc5",
     "locked": true,
     "schema_version": 3,
     "solution": false,
     "task": false
    }
   },
   "outputs": [],
   "source": [
    "# On affiche la convergence des algorithmes.\n",
    "plt.figure(figsize=(10, 10))\n",
    "plt.semilogy(np.linalg.norm(x_PasFixe-sol,axis=1),'-b')\n",
    "plt.semilogy(np.linalg.norm(x_PasOpt-sol,axis=1),'-r')\n",
    "plt.semilogy(np.linalg.norm(x_Uzawa-sol,axis=1),'-g')\n",
    "plt.legend(['Pas fixe','Pas optimal','Uzawa'])\n",
    "plt.title('Vitesse de convergence')\n",
    "plt.xlabel('Itérations')\n",
    "plt.ylabel('Erreur')\n",
    "plt.show()"
   ]
  }
 ],
 "metadata": {
  "kernelspec": {
   "display_name": "Python 3",
   "language": "python",
   "name": "python3"
  },
  "language_info": {
   "codemirror_mode": {
    "name": "ipython",
    "version": 3
   },
   "file_extension": ".py",
   "mimetype": "text/x-python",
   "name": "python",
   "nbconvert_exporter": "python",
   "pygments_lexer": "ipython3",
   "version": "3.11.7"
  }
 },
 "nbformat": 4,
 "nbformat_minor": 2
}
